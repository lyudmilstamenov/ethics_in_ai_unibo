{
 "cells": [
  {
   "cell_type": "code",
   "execution_count": 61,
   "metadata": {},
   "outputs": [],
   "source": [
    "import sys\n",
    "import os\n",
    "# Add the root directory of the project to PYTHONPATH\n",
    "sys.path.append(os.path.abspath(os.path.join('../../master-thesis-dizio-ay2324')))"
   ]
  },
  {
   "cell_type": "code",
   "execution_count": 62,
   "metadata": {},
   "outputs": [],
   "source": [
    "import numpy as np\n",
    "import pandas as pd\n",
    "import matplotlib.pyplot as plt\n",
    "from sklearn.model_selection import train_test_split\n",
    "from sklearn.metrics import accuracy_score\n",
    "\n",
    "from fairlib import DataFrame\n",
    "from fairlib.preprocessing import DisparateImpactRemover\n",
    "from fairlib.metrics import statistical_parity_difference, disparate_impact\n",
    "from fairlib.preprocessing.lfr import LFR\n",
    "random_state = 42\n",
    "np.random.seed(random_state)"
   ]
  },
  {
   "cell_type": "code",
   "execution_count": 63,
   "metadata": {},
   "outputs": [],
   "source": [
    "import pandas as pd\n",
    "\n",
    "df_cleaned = pd.read_csv('cleaned_dataset.csv')"
   ]
  },
  {
   "cell_type": "code",
   "execution_count": 64,
   "metadata": {},
   "outputs": [],
   "source": [
    "features = [\n",
    "    # Base Attributes\n",
    "    \"Sex_int\",\n",
    "    \"Protected category\",\n",
    "    \"Overall\",\n",
    "    \"Technical Skills\",\n",
    "    \"Standing/Position\",\n",
    "    \"Comunication\",\n",
    "    \"Maturity\",\n",
    "    \"Dynamism\",\n",
    "    \"Mobility\",\n",
    "    \"English\",\n",
    "    \"Italian Residence\",\n",
    "    \"European Residence\",\n",
    "    \"Age Range_int\",\n",
    "    \"number_of_searches\",\n",
    "    # Custom Similarity Scores\n",
    "    \"experience_match_score\",\n",
    "    \"current_salary_fit_score\",\n",
    "    \"expected_salary_fit_score\",\n",
    "    \"study_title_score\",\n",
    "    \"professional_similarity_score\",\n",
    "    \"study_area_score\",\n",
    "    \"general_similarity_score\",\n",
    "    \"Distance Residence - Akkodis HQ\",\n",
    "    \"Distance Residence - Assumption HQ\",\n",
    "]"
   ]
  },
  {
   "cell_type": "code",
   "execution_count": 65,
   "metadata": {},
   "outputs": [],
   "source": [
    "protected_attributes = [\n",
    "    'Sex_int', 'Protected category', 'Age Range_int',\n",
    "    'Italian Residence', 'European Residence'\n",
    "]"
   ]
  },
  {
   "cell_type": "code",
   "execution_count": null,
   "metadata": {},
   "outputs": [
    {
     "ename": "AttributeError",
     "evalue": "'DisparateImpactRemover' object has no attribute 'fit'",
     "output_type": "error",
     "traceback": [
      "\u001b[0;31m---------------------------------------------------------------------------\u001b[0m",
      "\u001b[0;31mAttributeError\u001b[0m                            Traceback (most recent call last)",
      "Cell \u001b[0;32mIn[27], line 19\u001b[0m\n\u001b[1;32m     17\u001b[0m \u001b[38;5;28;01mfrom\u001b[39;00m \u001b[38;5;21;01msklearn\u001b[39;00m\u001b[38;5;21;01m.\u001b[39;00m\u001b[38;5;21;01mmodel_selection\u001b[39;00m \u001b[38;5;28;01mimport\u001b[39;00m train_test_split\n\u001b[1;32m     18\u001b[0m \u001b[38;5;28;01mfrom\u001b[39;00m \u001b[38;5;21;01msklearn\u001b[39;00m\u001b[38;5;21;01m.\u001b[39;00m\u001b[38;5;21;01mlinear_model\u001b[39;00m \u001b[38;5;28;01mimport\u001b[39;00m LogisticRegression\n\u001b[0;32m---> 19\u001b[0m \u001b[38;5;28;43mdir\u001b[39;49m\u001b[38;5;241;43m.\u001b[39;49m\u001b[43mfit\u001b[49m(X_train, s\u001b[38;5;241m=\u001b[39ms_train)\n\u001b[1;32m     20\u001b[0m \u001b[38;5;66;03m# Transform both training and test data\u001b[39;00m\n\u001b[1;32m     21\u001b[0m X_train_transformed \u001b[38;5;241m=\u001b[39m \u001b[38;5;28mdir\u001b[39m\u001b[38;5;241m.\u001b[39mtransform(X_train, s\u001b[38;5;241m=\u001b[39ms_train)\n",
      "\u001b[0;31mAttributeError\u001b[0m: 'DisparateImpactRemover' object has no attribute 'fit'"
     ]
    }
   ],
   "source": [
    "# bool_cols = df_cleaned.select_dtypes(include='bool').columns\n",
    "# non_bool_cols = df_cleaned.columns.difference(bool_cols)\n",
    "# df_cleaned[bool_cols] = df_cleaned[bool_cols].astype(int)\n",
    "\n",
    "# # X_train, X_test, y_train, y_test = train_test_split(X, y, stratify=y, test_size=0.2, random_state=random_state)\n",
    "# # scaler = StandardScaler()\n",
    "# # X_train[non_bool_cols] = scaler.fit_transform(X_train[non_bool_cols])\n",
    "# # X_test[non_bool_cols] = scaler.transform(X_test[non_bool_cols])\n",
    "\n",
    "# X_train, X_test, y_train, y_test, s_train, s_test = train_test_split(\n",
    "#     df_cleaned[features], df_cleaned[['Hired']], df_cleaned[protected_attributes], test_size=0.2\n",
    "# )\n",
    "\n",
    "# # Initialize the DisparateImpactRemover with desired repair level\n",
    "# dir = DisparateImpactRemover(repair_level=0.8)\n",
    "\n",
    "# from sklearn.model_selection import train_test_split\n",
    "# from sklearn.linear_model import LogisticRegression\n",
    "# dir.fit(X_train, s=s_train)\n",
    "# # Transform both training and test data\n",
    "# X_train_transformed = dir.transform(X_train, s=s_train)\n",
    "# X_test_transformed = dir.transform(X_test, s=s_test)\n",
    "\n",
    "# # Train a classifier on the transformed data\n",
    "# clf = LogisticRegression()\n",
    "# clf.fit(X_train_transformed, y_train)\n",
    "\n",
    "# # Make predictions\n",
    "# y_pred = clf.predict(X_test_transformed)\n"
   ]
  },
  {
   "cell_type": "code",
   "execution_count": 66,
   "metadata": {},
   "outputs": [],
   "source": [
    "def get_prepared_data(X, y, target, sensitive):\n",
    "    \"\"\"\n",
    "    Prepare the data for training the LFR model.\n",
    "\n",
    "    Args:\n",
    "        X (DataFrame): The input features.\n",
    "        y (Series): The target labels.\n",
    "        target (str): The name of the target column.\n",
    "        sensitive (str): The name of the sensitive attribute column.\n",
    "\n",
    "    Returns:\n",
    "        tuple: A tuple containing the prepared dataset, input features, and target labels.\n",
    "    \"\"\"\n",
    "    X_train = X.copy()\n",
    "    y_train = y.copy()\n",
    "    X_train[target] = y_train\n",
    "    train_dataset = DataFrame(X_train)\n",
    "    train_dataset.targets = target\n",
    "    train_dataset.sensitive = sensitive\n",
    "    X_train.drop(columns=[target], inplace=True)\n",
    "    return train_dataset, X_train, y_train"
   ]
  },
  {
   "cell_type": "code",
   "execution_count": 67,
   "metadata": {},
   "outputs": [
    {
     "data": {
      "text/plain": [
       "{False, True, nan}"
      ]
     },
     "execution_count": 67,
     "metadata": {},
     "output_type": "execute_result"
    }
   ],
   "source": [
    "set(df_cleaned['Italian Residence'])"
   ]
  },
  {
   "cell_type": "code",
   "execution_count": 68,
   "metadata": {},
   "outputs": [
    {
     "name": "stderr",
     "output_type": "stream",
     "text": [
      "/tmp/ipykernel_89263/3757881217.py:1: FutureWarning: Downcasting object dtype arrays on .fillna, .ffill, .bfill is deprecated and will change in a future version. Call result.infer_objects(copy=False) instead. To opt-in to the future behavior, set `pd.set_option('future.no_silent_downcasting', True)`\n",
      "  df_cleaned['Italian Residence'] = df_cleaned['Italian Residence'].fillna(False)\n"
     ]
    }
   ],
   "source": [
    "df_cleaned['Italian Residence'] = df_cleaned['Italian Residence'].fillna(False)\n"
   ]
  },
  {
   "cell_type": "code",
   "execution_count": 78,
   "metadata": {},
   "outputs": [
    {
     "name": "stdout",
     "output_type": "stream",
     "text": [
      "Index(['Age Range_int', 'Comunication', 'Distance Residence - Akkodis HQ',\n",
      "       'Distance Residence - Assumption HQ', 'Dynamism', 'English', 'Maturity',\n",
      "       'Mobility', 'Overall', 'Sex_int', 'Standing/Position',\n",
      "       'Technical Skills', 'current_salary_fit_score',\n",
      "       'expected_salary_fit_score', 'experience_match_score',\n",
      "       'general_similarity_score', 'number_of_searches',\n",
      "       'professional_similarity_score', 'study_area_score',\n",
      "       'study_title_score'],\n",
      "      dtype='object')\n",
      "                                    min  max\n",
      "Sex_int                             0.0  1.0\n",
      "Protected category                  0.0  1.0\n",
      "Overall                             0.0  1.0\n",
      "Technical Skills                    0.0  1.0\n",
      "Standing/Position                   0.0  1.0\n",
      "Comunication                        0.0  1.0\n",
      "Maturity                            0.0  1.0\n",
      "Dynamism                            0.0  1.0\n",
      "Mobility                            0.0  1.0\n",
      "English                             0.0  1.0\n",
      "Italian Residence                   0.0  1.0\n",
      "European Residence                  0.0  1.0\n",
      "Age Range_int                       0.0  1.0\n",
      "number_of_searches                  0.0  1.0\n",
      "experience_match_score              0.0  1.0\n",
      "current_salary_fit_score            0.0  1.0\n",
      "expected_salary_fit_score           0.0  1.0\n",
      "study_title_score                   0.0  1.0\n",
      "professional_similarity_score       0.0  1.0\n",
      "study_area_score                    0.0  1.0\n",
      "general_similarity_score            0.0  1.0\n",
      "Distance Residence - Akkodis HQ     0.0  1.0\n",
      "Distance Residence - Assumption HQ  0.0  1.0\n",
      "Hired                               0.0  1.0\n"
     ]
    },
    {
     "ename": "RuntimeError",
     "evalue": "all elements of input should be between 0 and 1",
     "output_type": "error",
     "traceback": [
      "\u001b[0;31m---------------------------------------------------------------------------\u001b[0m",
      "\u001b[0;31mRuntimeError\u001b[0m                              Traceback (most recent call last)",
      "Cell \u001b[0;32mIn[78], line 36\u001b[0m\n\u001b[1;32m     34\u001b[0m min_max \u001b[38;5;241m=\u001b[39m lfr_train_dataset\u001b[38;5;241m.\u001b[39magg([\u001b[38;5;124m'\u001b[39m\u001b[38;5;124mmin\u001b[39m\u001b[38;5;124m'\u001b[39m, \u001b[38;5;124m'\u001b[39m\u001b[38;5;124mmax\u001b[39m\u001b[38;5;124m'\u001b[39m])\u001b[38;5;241m.\u001b[39mT\n\u001b[1;32m     35\u001b[0m \u001b[38;5;28mprint\u001b[39m(min_max)\n\u001b[0;32m---> 36\u001b[0m \u001b[43mlfr\u001b[49m\u001b[38;5;241;43m.\u001b[39;49m\u001b[43mfit\u001b[49m\u001b[43m(\u001b[49m\u001b[43mlfr_train_dataset\u001b[49m\u001b[43m,\u001b[49m\u001b[43m \u001b[49m\u001b[43mepochs\u001b[49m\u001b[38;5;241;43m=\u001b[39;49m\u001b[43mEPOCHS\u001b[49m\u001b[43m,\u001b[49m\u001b[43m \u001b[49m\u001b[43mbatch_size\u001b[49m\u001b[38;5;241;43m=\u001b[39;49m\u001b[43mBATCH_SIZE\u001b[49m\u001b[43m)\u001b[49m\n\u001b[1;32m     37\u001b[0m \u001b[38;5;66;03m# Transform data to fair representation\u001b[39;00m\n\u001b[1;32m     38\u001b[0m X_train_fair \u001b[38;5;241m=\u001b[39m lfr\u001b[38;5;241m.\u001b[39mtransform(X_train)\n",
      "File \u001b[0;32m~/Documents/unibo/ethics_in_ai/master-thesis-dizio-ay2324/fairlib/preprocessing/lfr.py:361\u001b[0m, in \u001b[0;36mLFR.fit\u001b[0;34m(self, X, y, **kwargs)\u001b[0m\n\u001b[1;32m    358\u001b[0m sensitive_values \u001b[38;5;241m=\u001b[39m features[:, sensitive_indexes[\u001b[38;5;241m0\u001b[39m]]\n\u001b[1;32m    360\u001b[0m \u001b[38;5;66;03m# Fit the model using the extracted data\u001b[39;00m\n\u001b[0;32m--> 361\u001b[0m \u001b[38;5;28;43mself\u001b[39;49m\u001b[38;5;241;43m.\u001b[39;49m\u001b[43m_fit\u001b[49m\u001b[43m(\u001b[49m\n\u001b[1;32m    362\u001b[0m \u001b[43m    \u001b[49m\u001b[43mfeatures\u001b[49m\u001b[43m,\u001b[49m\n\u001b[1;32m    363\u001b[0m \u001b[43m    \u001b[49m\u001b[43mtargets\u001b[49m\u001b[43m,\u001b[49m\n\u001b[1;32m    364\u001b[0m \u001b[43m    \u001b[49m\u001b[43msensitive_values\u001b[49m\u001b[43m,\u001b[49m\n\u001b[1;32m    365\u001b[0m \u001b[43m    \u001b[49m\u001b[43mepochs\u001b[49m\u001b[38;5;241;43m=\u001b[39;49m\u001b[43mepochs\u001b[49m\u001b[43m,\u001b[49m\n\u001b[1;32m    366\u001b[0m \u001b[43m    \u001b[49m\u001b[43mlearning_rate\u001b[49m\u001b[38;5;241;43m=\u001b[39;49m\u001b[43mlearning_rate\u001b[49m\u001b[43m,\u001b[49m\n\u001b[1;32m    367\u001b[0m \u001b[43m\u001b[49m\u001b[43m)\u001b[49m\n\u001b[1;32m    369\u001b[0m \u001b[38;5;28;01mreturn\u001b[39;00m \u001b[38;5;28mself\u001b[39m\n",
      "File \u001b[0;32m~/Documents/unibo/ethics_in_ai/master-thesis-dizio-ay2324/fairlib/preprocessing/lfr.py:467\u001b[0m, in \u001b[0;36mLFR._fit\u001b[0;34m(self, X, y, sensitive_values, epochs, learning_rate)\u001b[0m\n\u001b[1;32m    465\u001b[0m fairness_loss \u001b[38;5;241m=\u001b[39m compute_fairness_loss(z, sensitive_tensor)\n\u001b[1;32m    466\u001b[0m reconstruction_loss \u001b[38;5;241m=\u001b[39m compute_reconstruction_loss(X_tensor, x_reconstructed)\n\u001b[0;32m--> 467\u001b[0m classification_loss \u001b[38;5;241m=\u001b[39m \u001b[43mcompute_classification_loss\u001b[49m\u001b[43m(\u001b[49m\u001b[43my_pred\u001b[49m\u001b[43m,\u001b[49m\u001b[43m \u001b[49m\u001b[43my_tensor\u001b[49m\u001b[43m)\u001b[49m\n\u001b[1;32m    469\u001b[0m \u001b[38;5;66;03m# Compute total loss\u001b[39;00m\n\u001b[1;32m    470\u001b[0m total_loss \u001b[38;5;241m=\u001b[39m (\n\u001b[1;32m    471\u001b[0m     \u001b[38;5;28mself\u001b[39m\u001b[38;5;241m.\u001b[39malpha_z \u001b[38;5;241m*\u001b[39m fairness_loss\n\u001b[1;32m    472\u001b[0m     \u001b[38;5;241m+\u001b[39m \u001b[38;5;28mself\u001b[39m\u001b[38;5;241m.\u001b[39malpha_x \u001b[38;5;241m*\u001b[39m reconstruction_loss\n\u001b[1;32m    473\u001b[0m     \u001b[38;5;241m+\u001b[39m \u001b[38;5;28mself\u001b[39m\u001b[38;5;241m.\u001b[39malpha_y \u001b[38;5;241m*\u001b[39m classification_loss\n\u001b[1;32m    474\u001b[0m )\n",
      "File \u001b[0;32m~/Documents/unibo/ethics_in_ai/master-thesis-dizio-ay2324/fairlib/preprocessing/lfr.py:230\u001b[0m, in \u001b[0;36mcompute_classification_loss\u001b[0;34m(y_pred, y_true)\u001b[0m\n\u001b[1;32m    202\u001b[0m \u001b[38;5;250m\u001b[39m\u001b[38;5;124;03m\"\"\"\u001b[39;00m\n\u001b[1;32m    203\u001b[0m \u001b[38;5;124;03mCompute binary cross-entropy loss (Ly) for classification accuracy.\u001b[39;00m\n\u001b[1;32m    204\u001b[0m \n\u001b[0;32m   (...)\u001b[0m\n\u001b[1;32m    227\u001b[0m \u001b[38;5;124;03mand that y_true contains binary values (0 or 1).\u001b[39;00m\n\u001b[1;32m    228\u001b[0m \u001b[38;5;124;03m\"\"\"\u001b[39;00m\n\u001b[1;32m    229\u001b[0m \u001b[38;5;66;03m# Apply binary cross-entropy loss between predictions and true values\u001b[39;00m\n\u001b[0;32m--> 230\u001b[0m \u001b[38;5;28;01mreturn\u001b[39;00m \u001b[43mnn\u001b[49m\u001b[38;5;241;43m.\u001b[39;49m\u001b[43mBCELoss\u001b[49m\u001b[43m(\u001b[49m\u001b[43m)\u001b[49m\u001b[43m(\u001b[49m\u001b[43my_pred\u001b[49m\u001b[43m,\u001b[49m\u001b[43m \u001b[49m\u001b[43my_true\u001b[49m\u001b[43m)\u001b[49m\n",
      "File \u001b[0;32m~/.local/lib/python3.10/site-packages/torch/nn/modules/module.py:1736\u001b[0m, in \u001b[0;36mModule._wrapped_call_impl\u001b[0;34m(self, *args, **kwargs)\u001b[0m\n\u001b[1;32m   1734\u001b[0m     \u001b[38;5;28;01mreturn\u001b[39;00m \u001b[38;5;28mself\u001b[39m\u001b[38;5;241m.\u001b[39m_compiled_call_impl(\u001b[38;5;241m*\u001b[39margs, \u001b[38;5;241m*\u001b[39m\u001b[38;5;241m*\u001b[39mkwargs)  \u001b[38;5;66;03m# type: ignore[misc]\u001b[39;00m\n\u001b[1;32m   1735\u001b[0m \u001b[38;5;28;01melse\u001b[39;00m:\n\u001b[0;32m-> 1736\u001b[0m     \u001b[38;5;28;01mreturn\u001b[39;00m \u001b[38;5;28;43mself\u001b[39;49m\u001b[38;5;241;43m.\u001b[39;49m\u001b[43m_call_impl\u001b[49m\u001b[43m(\u001b[49m\u001b[38;5;241;43m*\u001b[39;49m\u001b[43margs\u001b[49m\u001b[43m,\u001b[49m\u001b[43m \u001b[49m\u001b[38;5;241;43m*\u001b[39;49m\u001b[38;5;241;43m*\u001b[39;49m\u001b[43mkwargs\u001b[49m\u001b[43m)\u001b[49m\n",
      "File \u001b[0;32m~/.local/lib/python3.10/site-packages/torch/nn/modules/module.py:1747\u001b[0m, in \u001b[0;36mModule._call_impl\u001b[0;34m(self, *args, **kwargs)\u001b[0m\n\u001b[1;32m   1742\u001b[0m \u001b[38;5;66;03m# If we don't have any hooks, we want to skip the rest of the logic in\u001b[39;00m\n\u001b[1;32m   1743\u001b[0m \u001b[38;5;66;03m# this function, and just call forward.\u001b[39;00m\n\u001b[1;32m   1744\u001b[0m \u001b[38;5;28;01mif\u001b[39;00m \u001b[38;5;129;01mnot\u001b[39;00m (\u001b[38;5;28mself\u001b[39m\u001b[38;5;241m.\u001b[39m_backward_hooks \u001b[38;5;129;01mor\u001b[39;00m \u001b[38;5;28mself\u001b[39m\u001b[38;5;241m.\u001b[39m_backward_pre_hooks \u001b[38;5;129;01mor\u001b[39;00m \u001b[38;5;28mself\u001b[39m\u001b[38;5;241m.\u001b[39m_forward_hooks \u001b[38;5;129;01mor\u001b[39;00m \u001b[38;5;28mself\u001b[39m\u001b[38;5;241m.\u001b[39m_forward_pre_hooks\n\u001b[1;32m   1745\u001b[0m         \u001b[38;5;129;01mor\u001b[39;00m _global_backward_pre_hooks \u001b[38;5;129;01mor\u001b[39;00m _global_backward_hooks\n\u001b[1;32m   1746\u001b[0m         \u001b[38;5;129;01mor\u001b[39;00m _global_forward_hooks \u001b[38;5;129;01mor\u001b[39;00m _global_forward_pre_hooks):\n\u001b[0;32m-> 1747\u001b[0m     \u001b[38;5;28;01mreturn\u001b[39;00m \u001b[43mforward_call\u001b[49m\u001b[43m(\u001b[49m\u001b[38;5;241;43m*\u001b[39;49m\u001b[43margs\u001b[49m\u001b[43m,\u001b[49m\u001b[43m \u001b[49m\u001b[38;5;241;43m*\u001b[39;49m\u001b[38;5;241;43m*\u001b[39;49m\u001b[43mkwargs\u001b[49m\u001b[43m)\u001b[49m\n\u001b[1;32m   1749\u001b[0m result \u001b[38;5;241m=\u001b[39m \u001b[38;5;28;01mNone\u001b[39;00m\n\u001b[1;32m   1750\u001b[0m called_always_called_hooks \u001b[38;5;241m=\u001b[39m \u001b[38;5;28mset\u001b[39m()\n",
      "File \u001b[0;32m~/.local/lib/python3.10/site-packages/torch/nn/modules/loss.py:697\u001b[0m, in \u001b[0;36mBCELoss.forward\u001b[0;34m(self, input, target)\u001b[0m\n\u001b[1;32m    696\u001b[0m \u001b[38;5;28;01mdef\u001b[39;00m \u001b[38;5;21mforward\u001b[39m(\u001b[38;5;28mself\u001b[39m, \u001b[38;5;28minput\u001b[39m: Tensor, target: Tensor) \u001b[38;5;241m-\u001b[39m\u001b[38;5;241m>\u001b[39m Tensor:\n\u001b[0;32m--> 697\u001b[0m     \u001b[38;5;28;01mreturn\u001b[39;00m \u001b[43mF\u001b[49m\u001b[38;5;241;43m.\u001b[39;49m\u001b[43mbinary_cross_entropy\u001b[49m\u001b[43m(\u001b[49m\n\u001b[1;32m    698\u001b[0m \u001b[43m        \u001b[49m\u001b[38;5;28;43minput\u001b[39;49m\u001b[43m,\u001b[49m\u001b[43m \u001b[49m\u001b[43mtarget\u001b[49m\u001b[43m,\u001b[49m\u001b[43m \u001b[49m\u001b[43mweight\u001b[49m\u001b[38;5;241;43m=\u001b[39;49m\u001b[38;5;28;43mself\u001b[39;49m\u001b[38;5;241;43m.\u001b[39;49m\u001b[43mweight\u001b[49m\u001b[43m,\u001b[49m\u001b[43m \u001b[49m\u001b[43mreduction\u001b[49m\u001b[38;5;241;43m=\u001b[39;49m\u001b[38;5;28;43mself\u001b[39;49m\u001b[38;5;241;43m.\u001b[39;49m\u001b[43mreduction\u001b[49m\n\u001b[1;32m    699\u001b[0m \u001b[43m    \u001b[49m\u001b[43m)\u001b[49m\n",
      "File \u001b[0;32m~/.local/lib/python3.10/site-packages/torch/nn/functional.py:3554\u001b[0m, in \u001b[0;36mbinary_cross_entropy\u001b[0;34m(input, target, weight, size_average, reduce, reduction)\u001b[0m\n\u001b[1;32m   3551\u001b[0m     new_size \u001b[38;5;241m=\u001b[39m _infer_size(target\u001b[38;5;241m.\u001b[39msize(), weight\u001b[38;5;241m.\u001b[39msize())\n\u001b[1;32m   3552\u001b[0m     weight \u001b[38;5;241m=\u001b[39m weight\u001b[38;5;241m.\u001b[39mexpand(new_size)\n\u001b[0;32m-> 3554\u001b[0m \u001b[38;5;28;01mreturn\u001b[39;00m \u001b[43mtorch\u001b[49m\u001b[38;5;241;43m.\u001b[39;49m\u001b[43m_C\u001b[49m\u001b[38;5;241;43m.\u001b[39;49m\u001b[43m_nn\u001b[49m\u001b[38;5;241;43m.\u001b[39;49m\u001b[43mbinary_cross_entropy\u001b[49m\u001b[43m(\u001b[49m\u001b[38;5;28;43minput\u001b[39;49m\u001b[43m,\u001b[49m\u001b[43m \u001b[49m\u001b[43mtarget\u001b[49m\u001b[43m,\u001b[49m\u001b[43m \u001b[49m\u001b[43mweight\u001b[49m\u001b[43m,\u001b[49m\u001b[43m \u001b[49m\u001b[43mreduction_enum\u001b[49m\u001b[43m)\u001b[49m\n",
      "\u001b[0;31mRuntimeError\u001b[0m: all elements of input should be between 0 and 1"
     ]
    }
   ],
   "source": [
    "from sklearn.preprocessing import StandardScaler, MinMaxScaler\n",
    "\n",
    "dataset = DataFrame(df_cleaned[features+['Hired']])\n",
    "dataset.sensitive = \"Sex_int\"\n",
    "\n",
    "bool_cols = dataset.select_dtypes(include='bool').columns\n",
    "non_bool_cols = dataset[features].columns.difference(bool_cols)\n",
    "\n",
    "\n",
    "dataset[bool_cols] = dataset[bool_cols].astype(int)\n",
    "\n",
    "X_train, X_test, y_train, y_test = train_test_split(\n",
    "    dataset[features], dataset[['Hired']], test_size=0.2\n",
    ")\n",
    "lfr = LFR(\n",
    "    input_dim=len(features),  # Number of input features\n",
    "    latent_dim=8,                # Dimension of fair representation\n",
    "    output_dim=len(features), # Same as input for reconstruction\n",
    "    alpha_z=1.0,                 # Weight for fairness loss\n",
    "    alpha_x=1.0,                 # Weight for reconstruction loss\n",
    "    alpha_y=1.0                  # Weight for classification loss\n",
    ")\n",
    "EPOCHS = 100\n",
    "BATCH_SIZE = 128\n",
    "TARGET = \"Hired\"\n",
    "SENSITIVE = \"Sex_int\"\n",
    "scaler = MinMaxScaler()\n",
    "X_train[non_bool_cols] = scaler.fit_transform(X_train[non_bool_cols])\n",
    "X_test[non_bool_cols] = scaler.transform(X_test[non_bool_cols])\n",
    "lfr_train_dataset, X_train_copy, y_train_copy = get_prepared_data(\n",
    "    X_train, y_train, TARGET, SENSITIVE\n",
    ")\n",
    "print(non_bool_cols)\n",
    "min_max = lfr_train_dataset.agg(['min', 'max']).T\n",
    "print(min_max)\n",
    "lfr.fit(lfr_train_dataset, epochs=EPOCHS, batch_size=BATCH_SIZE)\n",
    "# Transform data to fair representation\n",
    "X_train_fair = lfr.transform(X_train)\n",
    "X_test_fair = lfr.transform(X_test)\n",
    "\n",
    "# Use transformed data with any classifier\n",
    "from sklearn.linear_model import LogisticRegression\n",
    "clf = LogisticRegression()\n",
    "clf.fit(X_train_fair, y_train)\n",
    "predictions = clf.predict(X_test_fair)"
   ]
  },
  {
   "cell_type": "code",
   "execution_count": 80,
   "metadata": {},
   "outputs": [
    {
     "data": {
      "text/plain": [
       "23"
      ]
     },
     "execution_count": 80,
     "metadata": {},
     "output_type": "execute_result"
    }
   ],
   "source": [
    "X_train.shape[1]"
   ]
  },
  {
   "cell_type": "code",
   "execution_count": null,
   "metadata": {},
   "outputs": [],
   "source": [
    "from catboost import CatBoostClassifier\n",
    "from xgboost import XGBClassifier\n",
    "from lightgbm import LGBMClassifier\n",
    "\n",
    "from fairlearn.metrics import (\n",
    "    MetricFrame,\n",
    "    demographic_parity_difference,\n",
    "    equalized_odds_difference\n",
    ")\n",
    "from sklearn.metrics import precision_score, recall_score\n",
    "from sklearn.model_selection import train_test_split\n",
    "from sklearn.impute import SimpleImputer\n",
    "from sklearn.preprocessing import StandardScaler\n",
    "\n",
    "import matplotlib.pyplot as plt\n",
    "import seaborn as sns\n",
    "import pandas as pd\n",
    "import numpy as np\n",
    "\n",
    "df = df_cleaned[features+['Hired']]\n",
    "\n",
    "protected_attributes = [\n",
    "    'Sex_int', 'Protected category', 'Age Range_int',\n",
    "    'Italian Residence', 'European Residence'\n",
    "]\n",
    "\n",
    "df = df.dropna(subset=protected_attributes).reset_index(drop=True)\n",
    "\n",
    "X = df.drop(columns=['Hired'])\n",
    "y = df['Hired']\n",
    "\n",
    "bool_cols = X.select_dtypes(include='bool').columns\n",
    "non_bool_cols = X.columns.difference(bool_cols)\n",
    "\n",
    "X[bool_cols] = X[bool_cols].astype(int)\n",
    "\n",
    "X_train, X_test, y_train, y_test = train_test_split(X, y, stratify=y, test_size=0.2, random_state=random_state)\n",
    "\n",
    "scaler = StandardScaler()\n",
    "X_train[non_bool_cols] = scaler.fit_transform(X_train[non_bool_cols])\n",
    "X_test[non_bool_cols] = scaler.transform(X_test[non_bool_cols])\n",
    "\n",
    "imputer = SimpleImputer(strategy='mean')\n",
    "X_train_imp = pd.DataFrame(imputer.fit_transform(X_train), columns=X.columns)\n",
    "X_test_imp = pd.DataFrame(imputer.transform(X_test), columns=X.columns)\n",
    "\n",
    "svm_smote = SMOTE(sampling_strategy=0.75, random_state=random_state)\n",
    "X_res, y_res = svm_smote.fit_resample(X_train_imp, y_train)\n",
    "\n",
    "majority_count = (y_res == 0).sum()\n",
    "minority_count = (y_res == 1).sum()\n",
    "\n",
    "catboost_model = models['CatBoost']()\n",
    "lightgbm_model = models['LightGBM']()\n",
    "ensemble_model = models['Ensemble']()\n",
    "\n",
    "catboost_model.fit(X_res, y_res)\n",
    "lightgbm_model.fit(X_res, y_res)"
   ]
  }
 ],
 "metadata": {
  "kernelspec": {
   "display_name": "Python 3",
   "language": "python",
   "name": "python3"
  },
  "language_info": {
   "codemirror_mode": {
    "name": "ipython",
    "version": 3
   },
   "file_extension": ".py",
   "mimetype": "text/x-python",
   "name": "python",
   "nbconvert_exporter": "python",
   "pygments_lexer": "ipython3",
   "version": "3.10.12"
  }
 },
 "nbformat": 4,
 "nbformat_minor": 2
}
